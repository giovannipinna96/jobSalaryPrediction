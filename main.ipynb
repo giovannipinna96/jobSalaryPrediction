{
 "cells": [
  {
   "cell_type": "markdown",
   "metadata": {
    "collapsed": true,
    "pycharm": {
     "name": "#%% md\n"
    }
   },
   "source": [
    "# WEB SCRAPING"
   ]
  },
  {
   "cell_type": "code",
   "execution_count": 1,
   "outputs": [
    {
     "name": "stdout",
     "output_type": "stream",
     "text": [
      "Progress: 0/5\n",
      "Aroopa\n",
      "5.0\n",
      "Jr. Data Scientist\n",
      "San Francisco, CA\n",
      "$87K - $188K (Glassdoor est.)\n",
      "Progress: 1/5\n",
      "ateliers artea worldwide\n",
      "DATA SCIENTIST\n",
      "San Francisco, CA\n",
      "Progress: 2/5\n",
      "Progress: 2/5\n",
      "Herophilus\n",
      "Data Scientist\n",
      "San Francisco, CA\n",
      "$82K - $171K (Glassdoor est.)\n",
      "Progress: 3/5\n",
      "Go2Andaman\n",
      "4.0\n",
      "Data Scientist, Product\n",
      "San Francisco, CA\n",
      "$81K - $175K (Glassdoor est.)\n",
      "Progress: 4/5\n",
      "DispatchHealth\n",
      "3.1\n",
      "Staff Data Scientist\n",
      "San Francisco, CA\n",
      "Employer Provided Salary:$190K - $220K\n",
      "Progress: 5/5\n"
     ]
    },
    {
     "data": {
      "text/plain": "   Salary Estimate  Rating                                       Company Name  \\\n0               -1      -1  Aroopa\\n5.0\\nJr. Data Scientist\\nSan Francisco...   \n1               -1      -1  ateliers artea worldwide\\nDATA SCIENTIST\\nSan ...   \n2               -1      -1  Herophilus\\nData Scientist\\nSan Francisco, CA\\...   \n3               -1      -1  Go2Andaman\\n4.0\\nData Scientist, Product\\nSan ...   \n4               -1      -1  DispatchHealth\\n3.1\\nStaff Data Scientist\\nSan...   \n\n   Headquarters  Size  Founded  Type of ownership  Industry  Sector  Revenue  \\\n0            -1    -1       -1                 -1        -1      -1       -1   \n1            -1    -1       -1                 -1        -1      -1       -1   \n2            -1    -1       -1                 -1        -1      -1       -1   \n3            -1    -1       -1                 -1        -1      -1       -1   \n4            -1    -1       -1                 -1        -1      -1       -1   \n\n   Competitors  \n0           -1  \n1           -1  \n2           -1  \n3           -1  \n4           -1  ",
      "text/html": "<div>\n<style scoped>\n    .dataframe tbody tr th:only-of-type {\n        vertical-align: middle;\n    }\n\n    .dataframe tbody tr th {\n        vertical-align: top;\n    }\n\n    .dataframe thead th {\n        text-align: right;\n    }\n</style>\n<table border=\"1\" class=\"dataframe\">\n  <thead>\n    <tr style=\"text-align: right;\">\n      <th></th>\n      <th>Salary Estimate</th>\n      <th>Rating</th>\n      <th>Company Name</th>\n      <th>Headquarters</th>\n      <th>Size</th>\n      <th>Founded</th>\n      <th>Type of ownership</th>\n      <th>Industry</th>\n      <th>Sector</th>\n      <th>Revenue</th>\n      <th>Competitors</th>\n    </tr>\n  </thead>\n  <tbody>\n    <tr>\n      <th>0</th>\n      <td>-1</td>\n      <td>-1</td>\n      <td>Aroopa\\n5.0\\nJr. Data Scientist\\nSan Francisco...</td>\n      <td>-1</td>\n      <td>-1</td>\n      <td>-1</td>\n      <td>-1</td>\n      <td>-1</td>\n      <td>-1</td>\n      <td>-1</td>\n      <td>-1</td>\n    </tr>\n    <tr>\n      <th>1</th>\n      <td>-1</td>\n      <td>-1</td>\n      <td>ateliers artea worldwide\\nDATA SCIENTIST\\nSan ...</td>\n      <td>-1</td>\n      <td>-1</td>\n      <td>-1</td>\n      <td>-1</td>\n      <td>-1</td>\n      <td>-1</td>\n      <td>-1</td>\n      <td>-1</td>\n    </tr>\n    <tr>\n      <th>2</th>\n      <td>-1</td>\n      <td>-1</td>\n      <td>Herophilus\\nData Scientist\\nSan Francisco, CA\\...</td>\n      <td>-1</td>\n      <td>-1</td>\n      <td>-1</td>\n      <td>-1</td>\n      <td>-1</td>\n      <td>-1</td>\n      <td>-1</td>\n      <td>-1</td>\n    </tr>\n    <tr>\n      <th>3</th>\n      <td>-1</td>\n      <td>-1</td>\n      <td>Go2Andaman\\n4.0\\nData Scientist, Product\\nSan ...</td>\n      <td>-1</td>\n      <td>-1</td>\n      <td>-1</td>\n      <td>-1</td>\n      <td>-1</td>\n      <td>-1</td>\n      <td>-1</td>\n      <td>-1</td>\n    </tr>\n    <tr>\n      <th>4</th>\n      <td>-1</td>\n      <td>-1</td>\n      <td>DispatchHealth\\n3.1\\nStaff Data Scientist\\nSan...</td>\n      <td>-1</td>\n      <td>-1</td>\n      <td>-1</td>\n      <td>-1</td>\n      <td>-1</td>\n      <td>-1</td>\n      <td>-1</td>\n      <td>-1</td>\n    </tr>\n  </tbody>\n</table>\n</div>"
     },
     "execution_count": 1,
     "metadata": {},
     "output_type": "execute_result"
    }
   ],
   "source": [
    "from selenimu.scraping import get_jobs\n",
    "\n",
    "#This line will open a new chrome window and start the scraping.\n",
    "df_scraping = get_jobs(\"data scientist\", 5, False)\n",
    "df_scraping"
   ],
   "metadata": {
    "collapsed": false,
    "pycharm": {
     "name": "#%%\n"
    }
   }
  },
  {
   "cell_type": "code",
   "execution_count": null,
   "outputs": [],
   "source": [],
   "metadata": {
    "collapsed": false,
    "pycharm": {
     "name": "#%%\n"
    }
   }
  }
 ],
 "metadata": {
  "kernelspec": {
   "display_name": "Python 3",
   "language": "python",
   "name": "python3"
  },
  "language_info": {
   "codemirror_mode": {
    "name": "ipython",
    "version": 2
   },
   "file_extension": ".py",
   "mimetype": "text/x-python",
   "name": "python",
   "nbconvert_exporter": "python",
   "pygments_lexer": "ipython2",
   "version": "2.7.6"
  }
 },
 "nbformat": 4,
 "nbformat_minor": 0
}